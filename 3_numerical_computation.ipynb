{
 "cells": [
  {
   "cell_type": "code",
   "execution_count": 1,
   "id": "b9e5dcb8-0f4f-4edf-9393-fefb6b87823b",
   "metadata": {},
   "outputs": [],
   "source": [
    "import numpy as np \n",
    "import matplotlib.pyplot as plt \n",
    "import scipy.optimize as opt"
   ]
  },
  {
   "cell_type": "markdown",
   "id": "f862c3eb-6559-404b-a9f9-34281a2acfe6",
   "metadata": {},
   "source": [
    "# Overflow and Underflow\n",
    "Okay so we are going to go in the computer science route from now own, so examples can be a little more easy to see as we are in a computer :D (if you print this you are my GOAT). This topic actually is not about the wonderful world of computer science, but we are going to talk about its limitations. And the first limitations is the continouos, in math continuous is well defined for abundant of topics, but in computer science the continuous as right now (2024 :D) is not possible to represent in a computer, and why, because of computers are done."
   ]
  },
  {
   "cell_type": "markdown",
   "id": "a2c7dea9-39dc-48df-8de6-a0194749b5a1",
   "metadata": {},
   "source": [
    "Suppose we have the number $\\pi$, we know that first is an infinite rational number, thus if we continue to search for decimals of $\\pi$ will never, ever, end. But what is pi in python"
   ]
  },
  {
   "cell_type": "code",
   "execution_count": 2,
   "id": "7cd1f0b7-c9d8-496b-8452-e903cfef7300",
   "metadata": {},
   "outputs": [
    {
     "name": "stdout",
     "output_type": "stream",
     "text": [
      "3.141592653589793\n"
     ]
    }
   ],
   "source": [
    "print(np.pi)"
   ]
  },
  {
   "cell_type": "markdown",
   "id": "f4a49307-5983-441e-bae0-4fc74eef0b42",
   "metadata": {},
   "source": [
    "## 15 digits OMG, how can we trust computers if they can only give us 15 digits of $\\pi$\n",
    "Funny enough NASA uses only 15 digits to do their calculations hehe. As humans we are not infinite and sadly there has not been a computer science experiment that could grasp infinity, why? well computer are limited to what they can do.\n",
    "\n",
    "If you search your computer specifications you can see there is a number that represents the architecture of you computer, usually 64 bits, what does that mean, well is kinda of what it says, computers can only handle 64 bits. What is a bit, a bit is the most simple data structure that a computer has, in our computers, a simple a 0 or 1 (we are going to pass quantum computers, please research more about another possible types of bits)"
   ]
  },
  {
   "cell_type": "markdown",
   "id": "ca425ae1-0c8c-4a4a-bb58-52d10782fe26",
   "metadata": {},
   "source": [
    "Many can question, how can a computer do all that we do with only that little bit of information, well, imagine 64 bits combined, how many possible messages can we do with that"
   ]
  },
  {
   "cell_type": "code",
   "execution_count": 4,
   "id": "bd62881f-5875-42d0-9b17-227b08473052",
   "metadata": {},
   "outputs": [
    {
     "data": {
      "text/plain": [
       "18446744073709551616"
      ]
     },
     "execution_count": 4,
     "metadata": {},
     "output_type": "execute_result"
    }
   ],
   "source": [
    "2**6$4"
   ]
  },
  {
   "cell_type": "markdown",
   "id": "3f97e642-f598-49e0-b62b-6d94be963c6d",
   "metadata": {},
   "source": [
    "Well that many, that is a lot of information!! But suppose that we fill all of those $2^{64}$ messages, if we would like to add a simple extra message, computers cannot handle it. That is its limitation. Suppose that we want more digits of pi and we set up a string of information that has 64 bits and each of it is a digit of $\\pi$ in this hypothetical first we must change $\\pi$ to binary, and we get"
   ]
  },
  {
   "cell_type": "code",
   "execution_count": 8,
   "id": "c658b44f-6834-446c-9df7-5da389feac21",
   "metadata": {},
   "outputs": [
    {
     "name": "stdout",
     "output_type": "stream",
     "text": [
      "11.0010010000111111011010101000100010000101101000111001\n"
     ]
    }
   ],
   "source": [
    "pi_bin = \"11.0010010000111111011010101000100010000101101000111001\"\n",
    "print(pi_bin)"
   ]
  },
  {
   "cell_type": "code",
   "execution_count": 9,
   "id": "b704be4a-f459-41f2-a714-df59c8318ab3",
   "metadata": {},
   "outputs": [
    {
     "name": "stdout",
     "output_type": "stream",
     "text": [
      "55\n"
     ]
    }
   ],
   "source": [
    "print(len(pi_bin))"
   ]
  },
  {
   "cell_type": "markdown",
   "id": "72e7e782-7271-46a8-b449-68d36035b0b1",
   "metadata": {},
   "source": [
    "right now we are using 55 bits, only for pi, suppose we with some advance virtual machine can set up a longer representation of pi"
   ]
  },
  {
   "cell_type": "code",
   "execution_count": 12,
   "id": "55eb847f-1c35-4a4b-a100-021b6a6bbc93",
   "metadata": {},
   "outputs": [
    {
     "name": "stdout",
     "output_type": "stream",
     "text": [
      "11.0010010000111111011010101000100010000101101000111000011011011\n"
     ]
    }
   ],
   "source": [
    "pi_bin_64 = \"11.0010010000111111011010101000100010000101101000111000011011011\"\n",
    "print(pi_bin_64)"
   ]
  },
  {
   "cell_type": "code",
   "execution_count": 13,
   "id": "496f16c8-d1d2-46d0-b255-a60fc092f9ce",
   "metadata": {},
   "outputs": [
    {
     "name": "stdout",
     "output_type": "stream",
     "text": [
      "64\n"
     ]
    }
   ],
   "source": [
    "print(len(pi_bin_64))"
   ]
  },
  {
   "cell_type": "markdown",
   "id": "42557636-885a-4eb3-93f0-63f386d8f558",
   "metadata": {},
   "source": [
    "That is that all the computer can handle as pi, and it will give a lot of problems when using it (that's why numpy uses less bits), that is it's limitation, if don't believe me and say oh but you are using only one byte(a string of 64 bits), suppose that you use $2^{64}$ bits, then okay you are going to have 18446744073709551616 digits of binary pi. Not enough to represent infinite. That is the limitation of computers, they are discrete. This is not a rant, as most of the things in our world are done based on discretization of continuous variables, not only for computers. \n",
    "\n",
    "But we have to be aware of this type of limitations, and I am going to give you many examples of where this issue happens"
   ]
  },
  {
   "cell_type": "code",
   "execution_count": 18,
   "id": "5343c6e7-4051-4908-ae35-62b1e5e9f773",
   "metadata": {},
   "outputs": [
    {
     "name": "stdout",
     "output_type": "stream",
     "text": [
      "1.0\n"
     ]
    }
   ],
   "source": [
    "print(0.5000000000000000001+0.5)"
   ]
  },
  {
   "cell_type": "code",
   "execution_count": 23,
   "id": "922e97d2-a611-41fb-9914-ed73a7285730",
   "metadata": {},
   "outputs": [
    {
     "name": "stdout",
     "output_type": "stream",
     "text": [
      "0.3333333333333533\n"
     ]
    }
   ],
   "source": [
    "print(1/3+0.00000000000002)"
   ]
  },
  {
   "cell_type": "code",
   "execution_count": 22,
   "id": "444a0417-5dc6-41c4-be22-3ae5a8cc3196",
   "metadata": {},
   "outputs": [
    {
     "name": "stdout",
     "output_type": "stream",
     "text": [
      "0.3333333333333333\n"
     ]
    }
   ],
   "source": [
    "print(1/3+0.000000000000000002)"
   ]
  },
  {
   "cell_type": "markdown",
   "id": "53e3e460-366d-49e4-98b4-f45eee988519",
   "metadata": {},
   "source": [
    "Python uses 55 bits for double precision of numbers, meaning that everything over that is not considered"
   ]
  },
  {
   "cell_type": "code",
   "execution_count": 37,
   "id": "35f7448a-742b-43c5-8d6e-fe5b801c4d5d",
   "metadata": {},
   "outputs": [
    {
     "data": {
      "text/plain": [
       "1.000000000000001"
      ]
     },
     "execution_count": 37,
     "metadata": {},
     "output_type": "execute_result"
    }
   ],
   "source": [
    "0.000000000000001+1"
   ]
  },
  {
   "cell_type": "code",
   "execution_count": 39,
   "id": "cf119c2b-fe6d-47a8-9532-1cd76909d79b",
   "metadata": {},
   "outputs": [
    {
     "data": {
      "text/plain": [
       "1.0"
      ]
     },
     "execution_count": 39,
     "metadata": {},
     "output_type": "execute_result"
    }
   ],
   "source": [
    "0.0000000000000001+1"
   ]
  },
  {
   "cell_type": "markdown",
   "id": "5c77b3b6-0eaa-4adc-99c5-fc5d9155c0a5",
   "metadata": {},
   "source": [
    "As you can see python will consider the first number as 0, but... is not cero, that issue is called **underflow**, where the precision of a algorithm overpasses the precision of the results thus the computer only dismissed the values outside of the precision"
   ]
  },
  {
   "cell_type": "markdown",
   "id": "e6cc2c2e-055e-4e49-992f-d0affd817405",
   "metadata": {},
   "source": [
    "So we learn about under flow, but what about the contrary, when numbers are to big, where as could see, python does not understand what is infinite, so there must be the biggest number that python can handle, well even though that is true, python uses a trick to handle those and maybe I was a little bit misleading with past information, underflow is only truth for floats (or decimals), but with integers, python uses strings to handles those cases. So you can have this"
   ]
  },
  {
   "cell_type": "code",
   "execution_count": 48,
   "id": "869dad37-751c-4648-a1e2-8995c04eb70d",
   "metadata": {},
   "outputs": [
    {
     "data": {
      "text/plain": [
       "102039108421515748628313314"
      ]
     },
     "execution_count": 48,
     "metadata": {},
     "output_type": "execute_result"
    }
   ],
   "source": [
    "102039018239123919239128390 + 90182391829389184924"
   ]
  },
  {
   "cell_type": "markdown",
   "id": "5e17845b-fbb4-455a-82ab-f4ab665bc4d8",
   "metadata": {},
   "source": [
    "There is a problem though, we have to put a limit to what we learn and what we compute, the idea of overflow is when big numbers are starting to work as infinity in our algorithms, suppose we have a computer that only has 2^32 bits of space, so when a number passes 2^30 then we consider for it to be infinity, that is not true and it will never be, but that limitation makes us reach **overflow**. "
   ]
  },
  {
   "cell_type": "markdown",
   "id": "417523be-42cf-48f7-a75f-f7555992bcd3",
   "metadata": {},
   "source": [
    "# Poor conditioning\n",
    "This kinda of topic is quite different as before as we are going to talk about some mistakes we are going to do when defining certain algorithms, the idea is that imagine that we have a case where we are going to take an input, and we have a matrix that maps that input to a value. If we define that matrix in a certain way we might get unexpected results if we don't control it. You can see this here"
   ]
  },
  {
   "cell_type": "code",
   "execution_count": 55,
   "id": "bda972e2-eae1-42e4-abde-b735a2fff742",
   "metadata": {},
   "outputs": [
    {
     "name": "stdout",
     "output_type": "stream",
     "text": [
      "111111113.33333334\n"
     ]
    }
   ],
   "source": [
    "a = np.array([[10000,1],[1,0.00001]])\n",
    "print(np.linalg.cond(a)) "
   ]
  },
  {
   "cell_type": "markdown",
   "id": "7a6c86b5-037d-4712-922f-95c00c215910",
   "metadata": {},
   "source": [
    "and suppose we have to solve $x = A^{-1}b$\n",
    "the inverse of the matrix is"
   ]
  },
  {
   "cell_type": "code",
   "execution_count": 56,
   "id": "97ee3fa4-c1db-492a-aaf0-20ecc040b63e",
   "metadata": {},
   "outputs": [
    {
     "name": "stdout",
     "output_type": "stream",
     "text": [
      "[[-1.11111111e-05  1.11111111e+00]\n",
      " [ 1.11111111e+00 -1.11111111e+04]]\n"
     ]
    }
   ],
   "source": [
    "print(np.linalg.inv(a))"
   ]
  },
  {
   "cell_type": "markdown",
   "id": "1760f329-95a1-4b9e-9164-b5c1007d839a",
   "metadata": {},
   "source": [
    "as you can see the values are really constraint by precision and solving this issue for really small values can simply result in falsehoods. Do you know a really good example... overfitting, I am getting ahead of myself but suppose that you want to train for some data, and in the end you found a model that found each points in the dataset, but when you try to find a value that is outside that dataset, then you model does not work, then you condition is very high, because a small change of inputs results in a catastrofic change, I am going to make an example with this, the experiment is to test a new instrument and no matter what value we enter as x we must get 2."
   ]
  },
  {
   "cell_type": "code",
   "execution_count": 93,
   "id": "e723e55d-40bd-40bd-ab06-127d24fdd6be",
   "metadata": {},
   "outputs": [
    {
     "data": {
      "image/png": "[encoded data removed]",
      "text/plain": [
       "<Figure size 1000x600 with 1 Axes>"
      ]
     },
     "metadata": {},
     "output_type": "display_data"
    }
   ],
   "source": [
    "import numpy as np\n",
    "import matplotlib.pyplot as plt\n",
    "\n",
    "def generate_data(n):\n",
    "    x = np.linspace(0, 1, n)\n",
    "    y = np.array([2+ (-1)**(np.random.randint(2))*np.random.random()/3 for i in range(n)])\n",
    "    return x, y\n",
    "\n",
    "def fit_polynomial(x, y, degree):\n",
    "    p = np.polyfit(x, y, degree)\n",
    "    return np.poly1d(p)\n",
    "\n",
    "def plot_overfitting():\n",
    "    x, y = generate_data(20) \n",
    "    plt.figure(figsize=(10, 6))\n",
    "    plt.scatter(x, y, color='blue', label='Original data')\n",
    "    degrees = [1, 15]\n",
    "    for degree in degrees:\n",
    "        poly_model = fit_polynomial(x, y, degree)\n",
    "        plt.plot(x, poly_model(x), label=f'Degree {degree}')\n",
    "\n",
    "    plt.title('Overfitting Example')\n",
    "    plt.xlabel('x')\n",
    "    plt.ylabel('y')\n",
    "    plt.ylim([1.25,2.75])\n",
    "    plt.legend()\n",
    "    plt.show()\n",
    "\n",
    "# Call the function to generate the plot\n",
    "plot_overfitting()"
   ]
  },
  {
   "cell_type": "markdown",
   "id": "f2d3fb47-8983-4212-a212-cd02bea8a061",
   "metadata": {},
   "source": [
    "We have some data that are the points in blue right?, if you have to make an educated guess knowing that the values have a stadistical driff(meaning all values must be the same number in this case 2, but because of experimentation we did not get that value), what is the best curve that represents the data. Would you say the orange one? or the blue one?  maybe the best one to match those points is the orange one, but if you look closely, suppose you enter the value $x = 0.1$, because of the experiment you expect for it to be 2,but actually is ~2.4, but if you take the blue line the value approximates a lot to 2. That is essentially overfitting, creating a model (in this case a curve) to represent the data but not reality"
   ]
  },
  {
   "cell_type": "markdown",
   "id": "bbbb9015-c8bf-4988-838a-0ce7728eb282",
   "metadata": {},
   "source": [
    "So the condition is very high, as we cannot expect out model to predict well, that is oor conditioning."
   ]
  },
  {
   "cell_type": "markdown",
   "id": "83f5b58f-f57d-4a13-9a46-7585c04bffae",
   "metadata": {},
   "source": [
    "# Gradient-based optimization\n",
    "Okay so right now we might be entering the first topic that you learn in numerical methods that is crucially related machine learning, meaning by crucially related as everywhere you read about neural networks or optimization or deep learning you are going to hear about optimization based on an algorithm."
   ]
  },
  {
   "cell_type": "markdown",
   "id": "6c0924a3-dc40-44b7-93d0-80aa0759b5bb",
   "metadata": {},
   "source": [
    "Well let's start by putting ourselves in context. Suppose that we have a function, and we don't know derivatives, but we really need to minimize it, as often the problems that machine learning wants to learn is optimizing something, minimizing the error, maxing the accuracy and precision, optimizing metrics, etc. "
   ]
  },
  {
   "cell_type": "code",
   "execution_count": null,
   "id": "6f32f5f4-63fb-4e97-b5d1-6cc1c10e4e3f",
   "metadata": {},
   "outputs": [],
   "source": []
  },
  {
   "cell_type": "code",
   "execution_count": null,
   "id": "dcebb383-c9ed-4191-b319-d109b54bb640",
   "metadata": {},
   "outputs": [],
   "source": []
  },
  {
   "cell_type": "code",
   "execution_count": null,
   "id": "c8b38b24-cf1f-4ab5-9cae-5591eab91750",
   "metadata": {},
   "outputs": [],
   "source": []
  },
  {
   "cell_type": "code",
   "execution_count": null,
   "id": "65748faf-d6ab-4c57-8a66-7a38f9059487",
   "metadata": {},
   "outputs": [],
   "source": []
  },
  {
   "cell_type": "code",
   "execution_count": null,
   "id": "75911299-6d2b-4c5d-bd16-e7ab51003b12",
   "metadata": {},
   "outputs": [],
   "source": []
  },
  {
   "cell_type": "code",
   "execution_count": null,
   "id": "460183ca-e2b5-436c-81eb-5f3c307257ab",
   "metadata": {},
   "outputs": [],
   "source": []
  },
  {
   "cell_type": "code",
   "execution_count": null,
   "id": "552a64e1-624e-4775-bb4c-5d18fc3fdecd",
   "metadata": {},
   "outputs": [],
   "source": []
  },
  {
   "cell_type": "code",
   "execution_count": null,
   "id": "17f96f47-70c7-40b7-8425-f40079094d03",
   "metadata": {},
   "outputs": [],
   "source": []
  },
  {
   "cell_type": "code",
   "execution_count": null,
   "id": "2eb1996c-9930-4739-af82-b09f8e3100f6",
   "metadata": {},
   "outputs": [],
   "source": []
  },
  {
   "cell_type": "code",
   "execution_count": null,
   "id": "80817983-b51f-41bf-bce0-ad8bf6ce47a1",
   "metadata": {},
   "outputs": [],
   "source": []
  }
 ],
 "metadata": {
  "kernelspec": {
   "display_name": "Python 3 (ipykernel)",
   "language": "python",
   "name": "python3"
  },
  "language_info": {
   "codemirror_mode": {
    "name": "ipython",
    "version": 3
   },
   "file_extension": ".py",
   "mimetype": "text/x-python",
   "name": "python",
   "nbconvert_exporter": "python",
   "pygments_lexer": "ipython3",
   "version": "3.11.8"
  }
 },
 "nbformat": 4,
 "nbformat_minor": 5
}
