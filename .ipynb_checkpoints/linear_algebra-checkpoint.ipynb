{
 "cells": [
  {
   "cell_type": "markdown",
   "id": "47cdfbf0-dd2f-4b0f-86f2-0e72bb565d98",
   "metadata": {},
   "source": [
    "This notebooks are going to be a useful way of myself to understand Deep_learning by Ian Goodman, et. all. And be a useful help for anyone that needs it. This is just adding examples in programming about all the topics in the book. Thus normally its going to be normally a cell of theory and another in python learning how are they represented in programming "
   ]
  },
  {
   "cell_type": "code",
   "execution_count": 15,
   "id": "83d96e5a-87df-491a-8e4d-4a1b13c5954c",
   "metadata": {},
   "outputs": [],
   "source": [
    "import numpy as np\n",
    "import matplotlib.pyplot as plt\n",
    "from pprint import *"
   ]
  },
  {
   "cell_type": "markdown",
   "id": "1ca7d88c-2009-4d7d-9dd4-f850a05df751",
   "metadata": {},
   "source": [
    "# Scalars\n",
    "A scalar is any element in a field (1), (such that is this element and not another, joke for group theorists). We are going to use lower case symbols to represent them ($\\alpha,a,\\dots$)\n",
    "\n",
    "Examples:\n",
    "- $\\pi,2,3 \\in \\mathbb{R}$\n",
    "- $ 2,i,i+2 \\in \\mathbb{C}$"
   ]
  },
  {
   "cell_type": "markdown",
   "id": "6a5f9c26-bd7e-4ff2-ba72-61044bba0151",
   "metadata": {},
   "source": [
    "# Vectors\n",
    "In math, a vector is an element of a vector space (2), we usually work with or partially ordered vector spaces (3), but we are going to use more of a computer science definition, such that a vector is an array of scalars, such that the scalars inside them have an order to them, such that there is $[x_1,x_2,...]$ such that $x_1$. We are going to represent them with italic symbols *a,b,x,...*"
   ]
  },
  {
   "cell_type": "code",
   "execution_count": 13,
   "id": "bcdb67b5-9490-4916-b2eb-9d0718503e34",
   "metadata": {},
   "outputs": [
    {
     "name": "stdout",
     "output_type": "stream",
     "text": [
      "2,2.2,3.141592653589793\n"
     ]
    }
   ],
   "source": [
    "a = 2\n",
    "b = 2.2\n",
    "c = np.pi\n",
    "print( a, b, c, sep=\",\" )"
   ]
  },
  {
   "cell_type": "code",
   "execution_count": 20,
   "id": "c855edcf-7674-492f-8178-6f43d2b72cf1",
   "metadata": {},
   "outputs": [
    {
     "name": "stdout",
     "output_type": "stream",
     "text": [
      "[1, 2, 3, 2]\n",
      "[1.2, 2.4, 3.2, 2.2]\n"
     ]
    }
   ],
   "source": [
    "a = [1,2,3,2] #In this case element a[0] is before a[1] in this order\n",
    "b = [1.2,2.4,3.2,2.2]\n",
    "pprint( a )\n",
    "pprint( b )"
   ]
  },
  {
   "cell_type": "markdown",
   "id": "34c3ae0e-f2fc-4f2a-87c1-17cc244a7867",
   "metadata": {},
   "source": [
    "# Matrices "
   ]
  },
  {
   "cell_type": "markdown",
   "id": "4fe1b490-167c-4906-93f4-196c02957c17",
   "metadata": {},
   "source": [
    "Matrices also have another definition in math, but we can use a simple computer science concept, a matrix is a 2-D array of scalars, then lets use an example\n",
    "$$\\begin{array}[h]{}\n",
    "a_{0,0}&a_{0,1}\\\\\n",
    "a_{1,0}&a_{1,1}\n",
    "\\end{array}\n",
    "$$\n",
    "As you can see, each row is in the first entry, and each column in the second. I like to just another idea, lets consider matrices as vectors of vectors, usually when we define them in Python we set them as such"
   ]
  },
  {
   "cell_type": "code",
   "execution_count": 48,
   "id": "c1a78355-be3b-49dd-a8fb-4a78983fe8c2",
   "metadata": {},
   "outputs": [
    {
     "name": "stdout",
     "output_type": "stream",
     "text": [
      "[[2, 3], [2, 4]]\n",
      "[[2, 3, 3, 3],\n",
      " [2, 2, 2, 4]]\n",
      "[[2, 3],\n",
      " [2, 2],\n",
      " [1, 1]]\n"
     ]
    }
   ],
   "source": [
    "# See that matrices can be non-squared\n",
    "a = [ [2,3], [2,4] ]\n",
    "b = [ [2,3,3,3], [2,2,2,4] ]\n",
    "c = [ [2,3], [2,2], [1,1] ]\n",
    "p = PrettyPrinter(indent=1,width=18) #just formatting\n",
    "p.pprint( a )\n",
    "p.pprint( b )\n",
    "p.pprint( c )"
   ]
  },
  {
   "cell_type": "markdown",
   "id": "d7ae3782-2c6f-4e20-abd2-d0da9b9d5efd",
   "metadata": {},
   "source": [
    "In this case we are also going to use this way of representing the rows and cols for matrices\n",
    "Let  A =\n",
    "$$ \\begin{array}[h]{}\n",
    "a_{0,0}&a_{0,1}&a_{0,2}&a_{0,3}\\\\\n",
    "a_{1,0}&a_{1,1}&a_{1,2}&a_{1,3}\\\\\n",
    "a_{2,0}&a_{2,1}&a_{2,2}&a_{2,3}\\\\\n",
    "a_{3,0}&a_{3,1}&a_{2,2}&a_{3,3}\\\\\n",
    "\\end{array}$$\n",
    "For a column in a matrices we are going to use $A_{:,i}$ thus les get the second column, meaning, $A_{:,1}$\n",
    "$$ \\begin{array}[h]{}\n",
    "a_{0,1}\\\\\n",
    "a_{1,1}\\\\\n",
    "a_{2,1}\\\\\n",
    "a_{3,1}\\\\\n",
    "\\end{array}$$\n",
    "For a row is going to be easier, let a row be  $A_{i}$ and then get the third row $A_{2}$\n",
    "$$ \\begin{array}[h]{}\n",
    "a_{1,0}&a_{3,1}&a_{2,2}&a_{3,3}\\\\\n",
    "\\end{array}$$"
   ]
  },
  {
   "cell_type": "code",
   "execution_count": 66,
   "id": "d1c1bf28-e60d-4bbe-b896-70a5c9328e59",
   "metadata": {},
   "outputs": [
    {
     "name": "stdout",
     "output_type": "stream",
     "text": [
      "array([[ 1,  2,  3,  4],\n",
      "       [ 5,  6,  7,  8],\n",
      "       [ 9, 10, 11, 12]])\n",
      "array([5, 6, 7, 8])\n",
      "array([ 3,  7, 11])\n"
     ]
    }
   ],
   "source": [
    "A = np.array([[1,2,3,4],[5,6,7,8],[9,10,11,12]])\n",
    "p.pprint( A ) # matrix\n",
    "p.pprint( A[1,:] ) \n",
    "p.pprint( A[:,2] ) # column"
   ]
  },
  {
   "cell_type": "markdown",
   "id": "d3df005f-fde1-4ffe-8a81-b200906e17e1",
   "metadata": {},
   "source": [
    "# Tensors\n",
    "Sometimes we want structures to have more \"dimensions\" that just 2-D, so maybe 3 Dimensions, 4... N-dimensions, is interesting because the idea of a matrix can be use to represent a map of a a vector, and then we can just do this over an over, as a tensor is a vector of vectors of vectors of... This will be very useful as in machine learning in most cases  we use many dimensions not just 2. "
   ]
  },
  {
   "cell_type": "code",
   "execution_count": 102,
   "id": "3cd4df92-45a4-4240-a4ed-7a0dca979e9b",
   "metadata": {},
   "outputs": [
    {
     "name": "stdout",
     "output_type": "stream",
     "text": [
      "[[[2, 3], [2, 4]], [[2, 3, 3, 3], [2, 2, 2, 4]], [[2, 3], [2, 2], [1, 1]]]\n"
     ]
    }
   ],
   "source": [
    "a = [[ [2,3], [2,4] ],\n",
    "[ [2,3,3,3], [2,2,2,4] ],\n",
    "[ [2,3], [2,2], [1,1] ]]\n",
    "pprint( a ) #there is no good way to print this with just print, later we will see how we can visualize it"
   ]
  },
  {
   "cell_type": "markdown",
   "id": "ab6c56af-e8b8-40be-a34e-a3d6f94dc0cc",
   "metadata": {},
   "source": [
    "# Transpose \n",
    "The transpose can be seen as simply as just the passing of columns to rows, and rows to columns (just in simple terms) this let $A$ be a matrix and $A^T$ then \n",
    "$$(A^T)_{ij} = (A)_{ji}$$\n"
   ]
  },
  {
   "cell_type": "code",
   "execution_count": 110,
   "id": "6c5506c5-9506-440a-901d-cbba65eca1e8",
   "metadata": {},
   "outputs": [
    {
     "name": "stdout",
     "output_type": "stream",
     "text": [
      "a\n",
      "[[1 2 3]\n",
      " [4 5 6]]\n",
      "a.T\n",
      "[[1 4]\n",
      " [2 5]\n",
      " [3 6]]\n"
     ]
    }
   ],
   "source": [
    "a = np.array([[1,2,3],[4,5,6]])\n",
    "print( \"a\" )\n",
    "print( a )\n",
    "print( \"a.T\" )\n",
    "print(a.T)"
   ]
  },
  {
   "cell_type": "markdown",
   "id": "76a0359d-e822-4fb2-9401-b9a66861c294",
   "metadata": {},
   "source": [
    "# Dot product\n",
    "The dot product is an operation define for two vectors, let $a,b \\in \\mathbb{F} $ ($\\mathbb{F}$ is just a way to generalize it for any field) \n",
    "$$<a,b> \\in \\mathbb{F}$$\n",
    "for the case of vectors of scalars in the fields we are working on $\\mathbb{R},\\mathbb{C}$\n",
    "$$<a,b> = a\\dot{} b = a^{T}b$$\n"
   ]
  },
  {
   "cell_type": "code",
   "execution_count": 72,
   "id": "224c4956-a858-4fd5-9bd9-c2361fa99303",
   "metadata": {},
   "outputs": [
    {
     "data": {
      "text/plain": [
       "30"
      ]
     },
     "execution_count": 72,
     "metadata": {},
     "output_type": "execute_result"
    }
   ],
   "source": [
    "a = np.array([1,2,3,4])\n",
    "b = np.array([1,2,3,4])\n",
    "np.dot( a , b ) # 1*1 + 2*2 + 3*3 + 4*4 for the reals is very easy"
   ]
  },
  {
   "cell_type": "code",
   "execution_count": 73,
   "id": "181784e1-0fb7-4b93-a289-1f371ec5bf99",
   "metadata": {},
   "outputs": [
    {
     "data": {
      "text/plain": [
       "array([ 1,  4,  9, 16])"
      ]
     },
     "execution_count": 73,
     "metadata": {},
     "output_type": "execute_result"
    }
   ],
   "source": [
    "#check that is different of multiplication\n",
    "a*b"
   ]
  },
  {
   "cell_type": "markdown",
   "id": "eaef939f-7c7a-4384-a774-b298414538fb",
   "metadata": {},
   "source": [
    "# Matrices  multiplications \n",
    "This operations are really useful between matrices (tensors also) as in the background we are going to use them a lot, first sum i this is easy, and we are going to start with math definition let $A\\mathbb{R}^{n\\times m}$ and $B\\mathbb{R}^{m\\times p}$, then \n",
    "$$A\\times B = C$$ \n",
    "where\n",
    "$$ (C)_{ij} = \\sum_{k} a_{i,k}b_{k,j}$$ \n",
    "\n",
    "meaning that each column vector of matrix C will be the dot product of the corresponding row of A times B\n"
   ]
  },
  {
   "cell_type": "code",
   "execution_count": 91,
   "id": "1eadbab8-35ab-4971-926d-8afa33cfd8ea",
   "metadata": {},
   "outputs": [
    {
     "name": "stdout",
     "output_type": "stream",
     "text": [
      "[[1 2 3]\n",
      " [1 2 3]\n",
      " [1 2 3]\n",
      " [1 2 3]]\n",
      "[[1 2 3 4]\n",
      " [1 2 3 4]\n",
      " [1 2 3 4]]\n",
      "[[ 6 12 18 24]\n",
      " [ 6 12 18 24]\n",
      " [ 6 12 18 24]\n",
      " [ 6 12 18 24]]\n"
     ]
    }
   ],
   "source": [
    "A = np.array([[1,2,3],[1,2,3],[1,2,3],[1,2,3]])\n",
    "B = np.array([[1,2,3,4],[1,2,3,4],[1,2,3,4]])\n",
    "print( A )\n",
    "print( B )\n",
    "print( np.matmul(A,B) )"
   ]
  },
  {
   "cell_type": "code",
   "execution_count": 90,
   "id": "d1b38939-898d-4714-be30-c5bf4d31b435",
   "metadata": {},
   "outputs": [
    {
     "name": "stdout",
     "output_type": "stream",
     "text": [
      "[[ 6 12 18 24]\n",
      " [ 6 12 18 24]\n",
      " [ 6 12 18 24]\n",
      " [ 6 12 18 24]]\n"
     ]
    }
   ],
   "source": [
    "print( A@B ) #with numpy you can use this symbol also"
   ]
  },
  {
   "cell_type": "markdown",
   "id": "fe6b2dc3-2071-47e1-a6fd-9a1d978cc741",
   "metadata": {},
   "source": [
    "####  look that is different from a*b, in this case a*b will throw an error as for this a*b is an element-wise multiplication in python\n",
    "####  A*B # error"
   ]
  },
  {
   "cell_type": "markdown",
   "id": "4392d0de-58ee-4ed7-a07e-d61cfe1bd54b",
   "metadata": {},
   "source": [
    "# Multiplicaton is non-commutative\n",
    "That means that A*B $\\neq$ B*A, in our last example the commutative multiplication could not be done, but lets suppose for our next example that we have square matrices"
   ]
  },
  {
   "cell_type": "code",
   "execution_count": 100,
   "id": "9cbaee81-3df1-4daa-b530-429a4a4c4b06",
   "metadata": {},
   "outputs": [
    {
     "name": "stdout",
     "output_type": "stream",
     "text": [
      "A\n",
      "[[1 2 3]\n",
      " [1 2 3]\n",
      " [1 4 3]]\n",
      "B\n",
      "[[1 2 3]\n",
      " [1 1 3]\n",
      " [1 2 3]]\n",
      "AB\n",
      "[[ 6 18 18]\n",
      " [ 5 16 15]\n",
      " [ 6 18 18]]\n",
      "BA\n",
      "[[ 6 10 18]\n",
      " [ 6 10 18]\n",
      " [ 8 12 24]]\n"
     ]
    }
   ],
   "source": [
    "a = np.array([[1,2,3],[1,2,3],[1,4,3]])\n",
    "b = np.array([[1,2,3],[1,1,3],[1,2,3]])\n",
    "print( \"A\" )\n",
    "print( a )\n",
    "print( \"B\" )\n",
    "print( b )\n",
    "print( \"AB\" )\n",
    "print(b@a)\n",
    "print( \"BA\" )\n",
    "print(a@b)"
   ]
  },
  {
   "cell_type": "markdown",
   "id": "d77d5f89-5784-47d8-9e2c-9baea41890f7",
   "metadata": {},
   "source": [
    "# Properties of multiplication of matrices\n",
    "For this part suppose matrices are squared with same size. We can now see that this is true with element-wise sum\n",
    "$$A(B+C) = AB+AC$$\n",
    "$$A(BC) = (AB)C$$"
   ]
  },
  {
   "cell_type": "code",
   "execution_count": 101,
   "id": "bd6a125d-6ad9-459d-937e-ebc6dba00128",
   "metadata": {},
   "outputs": [
    {
     "name": "stdout",
     "output_type": "stream",
     "text": [
      "A\n",
      "[[1 2 3]\n",
      " [1 2 3]\n",
      " [1 4 3]]\n",
      "B\n",
      "[[1 2 3]\n",
      " [1 2 3]\n",
      " [1 2 3]]\n",
      "C\n",
      "[[2 3 3]\n",
      " [4 2 3]\n",
      " [1 2 3]]\n",
      "(AB)C\n",
      "[[ 78  78 108]\n",
      " [ 78  78 108]\n",
      " [104 104 144]]\n",
      "A(BC)\n",
      "[[ 78  78 108]\n",
      " [ 78  78 108]\n",
      " [104 104 144]]\n"
     ]
    }
   ],
   "source": [
    "A = np.array([[1,2,3],[1,2,3],[1,4,3]])\n",
    "B = np.array([[1,2,3],[1,2,3],[1,2,3]])\n",
    "C = np.array([[2,3,3],[4,2,3],[1,2,3]])\n",
    "print( \"A\" )\n",
    "print( A )\n",
    "print( \"B\" )\n",
    "print( B )\n",
    "print( \"C\" )\n",
    "print( C )\n",
    "print( \"(AB)C\" )\n",
    "print((A@B)@C)\n",
    "print( \"A(BC)\" )\n",
    "print(A@(B@C))"
   ]
  },
  {
   "cell_type": "markdown",
   "id": "d277fb78-53f3-438d-bce4-8e66e9247ed0",
   "metadata": {},
   "source": [
    "Also it has some interesting properties with transponse\n",
    "$$(AB)^T = B^TA^T$$"
   ]
  },
  {
   "cell_type": "code",
   "execution_count": 113,
   "id": "c2ec0fdd-ef9b-4638-829e-2f051cbeed98",
   "metadata": {},
   "outputs": [
    {
     "name": "stdout",
     "output_type": "stream",
     "text": [
      "A\n",
      "[[1 2 3]\n",
      " [1 2 3]\n",
      " [1 4 3]]\n",
      "B\n",
      "[[1 2 3]\n",
      " [1 2 3]\n",
      " [1 2 3]]\n",
      "(AB).T\n",
      "[[ 6  6  8]\n",
      " [12 12 16]\n",
      " [18 18 24]]\n",
      "B.TA.T\n",
      "[[ 6  6  8]\n",
      " [12 12 16]\n",
      " [18 18 24]]\n"
     ]
    }
   ],
   "source": [
    "A = np.array([[1,2,3],[1,2,3],[1,4,3]])\n",
    "B = np.array([[1,2,3],[1,2,3],[1,2,3]])\n",
    "\n",
    "print( \"A\" )\n",
    "print( A )\n",
    "print( \"B\" )\n",
    "print( B )\n",
    "print( \"(AB).T\" )\n",
    "print( (A@B).T )\n",
    "print( \"B.TA.T\" )\n",
    "print( B.T@A.T )"
   ]
  },
  {
   "cell_type": "markdown",
   "id": "56f51fff-1ae2-466a-881a-d3e63bb392a9",
   "metadata": {},
   "source": [
    "# Why?\n",
    "You might be be wondering why is this important, well, a lot of the first steps on machine leaning was to understand this issue, let A be matrix and b a vector, how can we solve this \n",
    "$$Ax=b$$\n",
    "Easy (x = b/A)... bad joke, well the explanation of the book in page 31 is perfect, thus I will not do it here, but the idea is that in this point we are going to introduce the inverse, an inverse of a matrix is such that $AA^{-1} = I$ where\n",
    "$$I = \\begin{array} ~1&0&0&...\\\\0&1&0&...\\\\0&0&1&...\\\\...&...&...&... \\end{array} $$\n",
    "For the dimension we are working on. Thus Ax=b can be seen as just a system of equations where\n",
    "$$a_{1,1} x_1 + a_{1,2}x_2+ ... + a_{1,n}x_n = b_1$$\n",
    "$$a_{2,1} x_1 + a_{2,2}x_2+ ... + a_{2,n}x_n = b_2$$\n",
    "$$...$$\n",
    "$$a_{m,1} x_1 + a_{m,2}x_2+ ... + a_{m,n}x_n = b_m$$"
   ]
  },
  {
   "cell_type": "markdown",
   "id": "3b6fba0a-860a-4077-b38b-064f96dffe34",
   "metadata": {},
   "source": [
    "# Identity and Inverse matrix\n",
    "Now as we know this we can use this to solve Ax =b \n",
    "$$Ax=b$$\n",
    "$$A^{-1}Ax=A^{-1}b$$\n",
    "$$x=A^{-1}b$$"
   ]
  },
  {
   "cell_type": "markdown",
   "id": "e4d21da2-bfc6-4c98-b765-9326abbcd279",
   "metadata": {},
   "source": [
    "# "
   ]
  },
  {
   "cell_type": "markdown",
   "id": "526ccc5e-621f-4861-a2aa-64625ea98023",
   "metadata": {},
   "source": [
    "Okay now i am going to do this part as is not in the book, just to give a more intuitive conception of a solution\n",
    "Let Ax = B for only two dimensions, suppose that we want to solve\n",
    "\n",
    "$$x + y = 4$$\n",
    "\n",
    "$$3x + y = 10$$\n",
    "You know the solution is x = 3 and y = 1, you could possibly do this in your head just by trying until you get it, but what does this mean\n",
    "let's do this step by step, lets represent this as a matrix\n",
    "$$\\begin{bmatrix} 1&1 \\\\ 3 &1\\end{bmatrix} \\begin{bmatrix} x\\\\ y \\end{bmatrix} = \\begin{bmatrix}4\\\\10\\end{bmatrix}$$\n",
    "$$ \\begin{bmatrix}1\\\\3\\end{bmatrix} +  \\begin{bmatrix}1\\\\1\\end{bmatrix} y= \\begin{bmatrix}4\\\\10\\end{bmatrix}$$\n",
    "if you do this matrix multiplication you could see this is exactly the same\n"
   ]
  },
  {
   "cell_type": "code",
   "execution_count": 131,
   "id": "4b538f7b-661d-4764-8e60-3d48502e8525",
   "metadata": {},
   "outputs": [
    {
     "name": "stdout",
     "output_type": "stream",
     "text": [
      "A\n",
      "[[1 1]\n",
      " [3 1]]\n",
      "b\n",
      "[[ 4]\n",
      " [10]]\n"
     ]
    }
   ],
   "source": [
    "#now with numpy\n",
    "A = np.array( [[1,1],[3,1]] )\n",
    "b = np.array( [[4],[10]])\n",
    "print( \"A\" )\n",
    "print( A )\n",
    "print( \"b\" )\n",
    "print( b )"
   ]
  },
  {
   "cell_type": "markdown",
   "id": "ff3676a5-879f-4f94-a3de-e2c3273c637b",
   "metadata": {},
   "source": [
    "Remember when we said that a vector is a vector of vectors, then we can understand this as how with two vectors we can reach a point"
   ]
  },
  {
   "cell_type": "code",
   "execution_count": 149,
   "id": "f22ed783-a1fb-42f0-b110-878e633ab37a",
   "metadata": {},
   "outputs": [
    {
     "data": {
      "image/png": "[encoded data removed]",
      "text/plain": [
       "<Figure size 640x480 with 1 Axes>"
      ]
     },
     "metadata": {},
     "output_type": "display_data"
    }
   ],
   "source": [
    "#we can see this in the plane\n",
    "fig,ax = plt.subplots()\n",
    "ax.quiver(0, 0, A[0][0], A[1][0], angles='xy', scale_units='xy', scale=1, color='r')\n",
    "ax.quiver(0, 0, A[0][1], A[1][1], angles='xy', scale_units='xy', scale=1, color='b')\n",
    "ax.annotate(\"A[:,0]\",(A[0][0],A[1][0]))\n",
    "ax.annotate(\"A[:,1]\",(A[0][1],A[1][1]))\n",
    "ax.scatter(4,10,label=\"o\")\n",
    "ax.annotate(\"[4,10]\",(4,10))\n",
    "\n",
    "ax.set_xlim([0, 6])\n",
    "ax.set_ylim([0, 11])\n",
    "plt.grid()"
   ]
  },
  {
   "cell_type": "markdown",
   "id": "0d99096e-7c38-4e55-8f2a-66a6fd001f55",
   "metadata": {},
   "source": [
    "Lets try only using the first vector"
   ]
  },
  {
   "cell_type": "code",
   "execution_count": 155,
   "id": "bc7f7b34-a301-4d17-8009-cf390caf4e46",
   "metadata": {},
   "outputs": [
    {
     "data": {
      "image/png": "[encoded data removed]",
      "text/plain": [
       "<Figure size 640x480 with 1 Axes>"
      ]
     },
     "metadata": {},
     "output_type": "display_data"
    }
   ],
   "source": [
    "fig,ax = plt.subplots()\n",
    "ax.quiver(0, 0, A[0][0], A[1][0], angles='xy', scale_units='xy', scale=1, color='r')\n",
    "ax.quiver(0, 0, 2*A[0][0], 2*A[1][0], angles='xy', scale_units='xy', scale=1, color='r')\n",
    "ax.quiver(0, 0, 3*A[0][0], 3*A[1][0], angles='xy', scale_units='xy', scale=1, color='r')\n",
    "ax.quiver(0, 0, 4*A[0][0], 4*A[1][0], angles='xy', scale_units='xy', scale=1, color='r')\n",
    "ax.scatter(4,10,label=\"o\")\n",
    "ax.annotate(\"[4,10]\",(4,10))\n",
    "\n",
    "ax.set_xlim([0, 6])\n",
    "ax.set_ylim([0, 15])\n",
    "plt.grid()"
   ]
  },
  {
   "cell_type": "markdown",
   "id": "3e7309d1-c001-4e33-8bc1-25c69958c4ec",
   "metadata": {},
   "source": [
    "Tragedy :( , We cannot reach it\n",
    "\n",
    "Now lets try to use the other one"
   ]
  },
  {
   "cell_type": "code",
   "execution_count": 195,
   "id": "2706087c-079c-43cd-b318-46eab76d1e97",
   "metadata": {},
   "outputs": [
    {
     "data": {
      "image/png": "[encoded data removed]",
      "text/plain": [
       "<Figure size 640x480 with 1 Axes>"
      ]
     },
     "metadata": {},
     "output_type": "display_data"
    }
   ],
   "source": [
    "fig,ax = plt.subplots()\n",
    "ax.quiver(0, 0, A[0][1], A[1][1], angles='xy', scale_units='xy', scale=1, color='r')\n",
    "ax.quiver(0, 0, 2*A[0][1], 2*A[1][1], angles='xy', scale_units='xy', scale=1, color='b')\n",
    "ax.quiver(0, 0, 3*A[0][1], 3*A[1][1], angles='xy', scale_units='xy', scale=1, color='b')\n",
    "ax.quiver(0, 0, 4*A[0][1], 4*A[1][1], angles='xy', scale_units='xy', scale=1, color='b')\n",
    "ax.quiver(0, 0, 5*A[0][1], 5*A[1][1], angles='xy', scale_units='xy', scale=1, color='b')\n",
    "ax.scatter(4,10,label=\"o\")\n",
    "ax.annotate(\"[4,10]\",(4,10))\n",
    "\n",
    "ax.set_xlim([0, 6])\n",
    "ax.set_ylim([0, 15])\n",
    "plt.grid()"
   ]
  },
  {
   "cell_type": "markdown",
   "id": "a3618553-cbd6-46f1-828f-ace16b4b2acb",
   "metadata": {},
   "source": [
    "Nooooooo :(, Lets try to use now a combination of both"
   ]
  },
  {
   "cell_type": "code",
   "execution_count": 171,
   "id": "7acf324d-fee4-4f01-aa93-eeb2b8316d66",
   "metadata": {},
   "outputs": [
    {
     "data": {
      "image/png": "[encoded data removed]",
      "text/plain": [
       "<Figure size 640x480 with 1 Axes>"
      ]
     },
     "metadata": {},
     "output_type": "display_data"
    }
   ],
   "source": [
    "fig,ax = plt.subplots()\n",
    "ax.quiver(0, 0, A[0][0], A[1][0], angles='xy', scale_units='xy', scale=1, color='r')\n",
    "ax.quiver(0, 0, 2*A[0][0], 2*A[1][0], angles='xy', scale_units='xy', scale=1, color='r')\n",
    "ax.quiver(0, 0, 3*A[0][0], 3*A[1][0], angles='xy', scale_units='xy', scale=1, color='r')\n",
    "ax.quiver(3*A[0][0], 3*A[1][0], A[0][1], A[1][1], angles='xy', scale_units='xy', scale=1, color='b')\n",
    "ax.scatter(4,10,label=\"o\")\n",
    "ax.annotate(\"[4,10]\",(4,10))\n",
    "\n",
    "ax.set_xlim([0, 6])\n",
    "ax.set_ylim([0, 15])\n",
    "plt.grid()"
   ]
  },
  {
   "cell_type": "markdown",
   "id": "55a11471-c9bf-4aed-affc-1be92ffe2542",
   "metadata": {},
   "source": [
    "# OMG we got it \n",
    "and we only needed 3 reds and 1 blue :O\n",
    "\n",
    "This means that we could solve this, amazing"
   ]
  },
  {
   "cell_type": "code",
   "execution_count": 180,
   "id": "1e3cfa40-8083-4207-b932-72b3da3c71f9",
   "metadata": {},
   "outputs": [
    {
     "name": "stdout",
     "output_type": "stream",
     "text": [
      "A\n",
      "[[1 1]\n",
      " [3 1]]\n",
      "b\n",
      "[[ 4]\n",
      " [10]]\n",
      "Ax=b\n"
     ]
    },
    {
     "data": {
      "text/plain": [
       "array([[3.],\n",
       "       [1.]])"
      ]
     },
     "execution_count": 180,
     "metadata": {},
     "output_type": "execute_result"
    }
   ],
   "source": [
    "#We could do this easier in python\n",
    "print( \"A\" )\n",
    "print( A )\n",
    "print( \"b\" )\n",
    "print( b )\n",
    "print( \"Ax=b\")\n",
    "np.linalg.solve(A,b) #boring "
   ]
  },
  {
   "cell_type": "markdown",
   "id": "07ce860f-396e-4bc5-850a-d6d11b02230a",
   "metadata": {},
   "source": [
    "## Existance of the Inverse\n",
    "Well, we did all of this, as for an inverse of a matrix A to exist, Ax=b most have exactly one solution for any b that we pick, meaning that if there is no solution or many then the inverse will most likely not exist (we will see what I mean in the next section), for [4,10] there is no other value that could be a result for this, you could try it but there are no other in $(\\mathbb{R}^2)$. \n",
    "\n",
    "Well, the calculation of the inverse can be done using many techniques, but honestly they are now really interesting for me."
   ]
  },
  {
   "cell_type": "code",
   "execution_count": 194,
   "id": "b878dfa2-6bb6-4deb-90dd-f693e2e7e38e",
   "metadata": {},
   "outputs": [
    {
     "name": "stdout",
     "output_type": "stream",
     "text": [
      "A\n",
      "[[1 1]\n",
      " [3 1]]\n",
      "A^-1\n",
      "[[-0.5  0.5]\n",
      " [ 1.5 -0.5]]\n",
      "AA^-1\n",
      "[[1. 0.]\n",
      " [0. 1.]]\n",
      "A^-1A\n",
      "[[1. 0.]\n",
      " [0. 1.]]\n"
     ]
    }
   ],
   "source": [
    "print( \"A\" )\n",
    "print( A )\n",
    "print( \"A^-1\" )\n",
    "print( np.linalg.inv(A) )\n",
    "print( \"AA^-1\" )\n",
    "print( np.round(A@np.linalg.inv(A)) ) # we use round for a reason we are goin to see later in the cpart of numerical computation problems\n",
    "print( \"A^-1A\" )\n",
    "print( np.round(np.linalg.inv(A)@A) )"
   ]
  },
  {
   "cell_type": "markdown",
   "id": "9ef92360-db07-4325-90e1-347b0cd67ba8",
   "metadata": {},
   "source": [
    "So in what cases can we see if the matrix have an inverse without solving the equation. Well linear independence! When the columns of A are linearly independant then we are going to have a solution for any point inside their span. (Or column space), you can see more about this in the book, but what does this means, suppose a matrix is a family of vectors such that \n",
    "$$A = \\{A_0,A_1,\\dots,A_n\\}$$\n",
    "then we know them to be l.i. iff  for the equation\n",
    "$$\\alpha_0A_0 + \\alpha_1A_1+\\dots+\\alpha_nA_n = 0$$\n",
    "the only solution is when $\\alpha_i = 0$, all other combinations result in a different value different than 0, let's see why I like this idea. \n",
    "\n",
    "Suppose we have this equation\n",
    "$$ \\begin{bmatrix}1\\\\-1\\end{bmatrix}x +  \\begin{bmatrix}1\\\\1\\end{bmatrix} y= \\begin{bmatrix}2\\\\0\\end{bmatrix}$$\n"
   ]
  },
  {
   "cell_type": "code",
   "execution_count": 215,
   "id": "1cb22648-30d2-4c13-b14f-aa3f3ada8852",
   "metadata": {},
   "outputs": [
    {
     "data": {
      "image/png": "[encoded data removed]",
      "text/plain": [
       "<Figure size 640x480 with 1 Axes>"
      ]
     },
     "metadata": {},
     "output_type": "display_data"
    }
   ],
   "source": [
    "fig,ax = plt.subplots()\n",
    "ax.quiver(0, 0, 1, -1, angles='xy', scale_units='xy', scale=1, color='r')\n",
    "ax.quiver(0, 0, 1, 1, angles='xy', scale_units='xy', scale=1, color='b')\n",
    "ax.set_xlim([-3, 4])\n",
    "ax.set_ylim([-3, 4])\n",
    "plt.grid()"
   ]
  },
  {
   "cell_type": "markdown",
   "id": "f2501f0c-bb8d-46cc-a807-7372395fd9a5",
   "metadata": {},
   "source": [
    "Again is easy to see the solution is x=1 and y=1, but lets try to check if the vectors are linearly independent if we try to solve this\n",
    "$$ \\begin{bmatrix}1\\\\-1\\end{bmatrix}x +  \\begin{bmatrix}1\\\\1\\end{bmatrix} y= \\begin{bmatrix}0\\\\0\\end{bmatrix}$$\n",
    "Same idea we are going to try to combine many times both vectors to reach 0"
   ]
  },
  {
   "cell_type": "code",
   "execution_count": 249,
   "id": "e45ef19c-7e91-4c06-8e47-eb420b3ceef6",
   "metadata": {},
   "outputs": [
    {
     "data": {
      "text/plain": [
       "(-3.0, 4.0)"
      ]
     },
     "execution_count": 249,
     "metadata": {},
     "output_type": "execute_result"
    },
    {
     "data": {
      "image/png": "[encoded data removed]",
      "text/plain": [
       "<Figure size 640x480 with 1 Axes>"
      ]
     },
     "metadata": {},
     "output_type": "display_data"
    }
   ],
   "source": [
    "fig,ax = plt.subplots()\n",
    "a = [[0,0,1,-1,'g'],\n",
    "     [1,-1,1,1,'g'],\n",
    "     [2,0,1,-1,'g']]\n",
    "b = [[0,0,1,1,'b'],\n",
    "     [1,1,-1,1,'b'],\n",
    "     [0,2,1,1,'b']]\n",
    "c = [[0,0,0.5,0.5,'r'],\n",
    "     [0.5,0.5,1,-1,'r'],\n",
    "     [1.5,-0.5,1,-1,'r']]\n",
    "d = [[0,0,-1,-1,'y'],\n",
    "     [-1,-1,-1,1,'y'],\n",
    "     [-2,0,1,1,'y']]\n",
    "for i in [a,b,c,d]:\n",
    "    for x,y,v_x,v_y,c in i:\n",
    "        ax.quiver(x, y, v_x, v_y, angles='xy', scale_units='xy', scale=1, color=c)\n",
    "ax.scatter(0,0) \n",
    "ax.set_xlim([-3,4])\n",
    "ax.set_ylim([-3,4])"
   ]
  },
  {
   "cell_type": "markdown",
   "id": "e60156e2-e783-4d30-912e-08e19a1e36af",
   "metadata": {},
   "source": [
    "These are many tries that we did but little by little is it really clear that we cannot reach it [0,0] without any other combination than x=0 and y=0, for some of you the yello path can easly reach with only another vector [1,-1] and you would be correct but I want to make a parenthesis in this case. Suppose we do this "
   ]
  },
  {
   "cell_type": "code",
   "execution_count": 254,
   "id": "5bf012eb-29da-4ebf-8284-dfb65b537543",
   "metadata": {},
   "outputs": [
    {
     "data": {
      "image/png": "[encoded data removed]",
      "text/plain": [
       "<Figure size 640x480 with 1 Axes>"
      ]
     },
     "metadata": {},
     "output_type": "display_data"
    }
   ],
   "source": [
    "fig,ax = plt.subplots()\n",
    "ax.scatter(0,0) \n",
    "ax.set_xlim([-3,2])\n",
    "ax.set_ylim([-2,2])\n",
    "# some may say \n",
    "d = [\n",
    "    [0,0,-1,-1,'y'],\n",
    "     [-1,-1,-1,1,'y'],\n",
    "     [-2,0,1,1,'y'],\n",
    "     [-1,1,1,-1,'y']\n",
    "    ]\n",
    "for i in [d]:\n",
    "    for x,y,v_x,v_y,c in i:\n",
    "        ax.quiver(x, y, v_x, v_y, angles='xy', scale_units='xy', scale=1, color=c)"
   ]
  },
  {
   "cell_type": "markdown",
   "id": "3900fdc0-d61f-43bc-bd67-1a7a55feeec2",
   "metadata": {},
   "source": [
    "We are taking \n",
    "$$  \\begin{bmatrix}1\\\\-1\\end{bmatrix}(-1) + \\begin{bmatrix}1\\\\-1\\end{bmatrix}(1) + \\begin{bmatrix}1\\\\1\\end{bmatrix}(-1) + \\begin{bmatrix}1\\\\1\\end{bmatrix}(1) = \\begin{bmatrix}0\\\\0\\end{bmatrix}$$\n",
    "So after we do distribute we are going to get to this\n",
    "$$   \\begin{bmatrix}1\\\\-1\\end{bmatrix}(0) +  \\begin{bmatrix}1\\\\1\\end{bmatrix}(0) = \\begin{bmatrix}0\\\\0\\end{bmatrix}$$\n",
    "So yeah :D, they are l.i.\n",
    "\n",
    "You can use many other ways to calculate it but I like this approach. Lets see a case where they are not l.i., suppose we have\n",
    "$$   \\begin{bmatrix}1\\\\1\\end{bmatrix}x +  \\begin{bmatrix}-1\\\\-1\\end{bmatrix}y = \\begin{bmatrix}0\\\\0\\end{bmatrix}$$"
   ]
  },
  {
   "cell_type": "code",
   "execution_count": 256,
   "id": "a5759bb9-711a-46c2-8cb5-cd52c892abb4",
   "metadata": {},
   "outputs": [
    {
     "data": {
      "image/png": "[encoded data removed]",
      "text/plain": [
       "<Figure size 640x480 with 1 Axes>"
      ]
     },
     "metadata": {},
     "output_type": "display_data"
    }
   ],
   "source": [
    "fig,ax = plt.subplots()\n",
    "ax.quiver(0, 0, 1, 1, angles='xy', scale_units='xy', scale=1, color='r')\n",
    "ax.quiver(0, 0, -1, -1, angles='xy', scale_units='xy', scale=1, color='b')\n",
    "ax.set_xlim([-3, 4])\n",
    "ax.set_ylim([-3, 4])\n",
    "plt.grid()"
   ]
  },
  {
   "cell_type": "markdown",
   "id": "3398dd3d-7456-4e41-98da-e3c0304d0253",
   "metadata": {},
   "source": [
    "You can easily see a solution x = 1 and y = 1"
   ]
  },
  {
   "cell_type": "code",
   "execution_count": 261,
   "id": "245a88ee-80ce-407f-a9c8-bd94e13fa460",
   "metadata": {},
   "outputs": [
    {
     "data": {
      "image/png": "[encoded data removed]",
      "text/plain": [
       "<Figure size 640x480 with 1 Axes>"
      ]
     },
     "metadata": {},
     "output_type": "display_data"
    }
   ],
   "source": [
    "fig,ax = plt.subplots()\n",
    "ax.quiver(0, 0, 1, 1, angles='xy', scale_units='xy', scale=1, color='r')\n",
    "ax.quiver(1, 1, -1, -1, angles='xy', scale_units='xy', scale=1, color='b')\n",
    "ax.set_xlim([-2, 2])\n",
    "ax.set_ylim([-2, 2])\n",
    "ax.scatter(0,0,color=\"black\")\n",
    "plt.grid()"
   ]
  },
  {
   "cell_type": "markdown",
   "id": "f933df9d-5e55-4b84-91ad-8096104707f1",
   "metadata": {},
   "source": [
    "It can be difficult to tell but first we take a red step and then a blue step, and we get to [0,0]\n",
    "$$   \\begin{bmatrix}1\\\\1\\end{bmatrix} +  \\begin{bmatrix}-1\\\\-1\\end{bmatrix} = \\begin{bmatrix}0\\\\0\\end{bmatrix}$$\n",
    "Thus both are not l.i.\n",
    "\n",
    "Okay now that we have an idea to linear independence, we can come back to Ax=b, in this case for example, suppose we want to go to the point [-1,1]"
   ]
  },
  {
   "cell_type": "code",
   "execution_count": 266,
   "id": "450f3156-5109-4e48-91f1-542fbd7a5e74",
   "metadata": {},
   "outputs": [
    {
     "data": {
      "text/plain": [
       "<matplotlib.collections.PathCollection at 0x72bf97084a10>"
      ]
     },
     "execution_count": 266,
     "metadata": {},
     "output_type": "execute_result"
    },
    {
     "data": {
      "image/png": "[encoded data removed]",
      "text/plain": [
       "<Figure size 640x480 with 1 Axes>"
      ]
     },
     "metadata": {},
     "output_type": "display_data"
    }
   ],
   "source": [
    "fig,ax = plt.subplots()\n",
    "ax.set_xlim([-2, 2])\n",
    "ax.set_ylim([-2, 2])\n",
    "ax.scatter(0,0,color=\"black\")\n",
    "ax.annotate(\"[-1,1]\",[-1,1])\n",
    "ax.scatter(-1,1,color=\"g\")"
   ]
  },
  {
   "cell_type": "markdown",
   "id": "393c8ffe-c34c-4a4e-aa0e-2e5989172b39",
   "metadata": {},
   "source": [
    "Is there a way for us to reach to this point? well no, as we can see [-1,1] is not in span of our collection of vectors, the span is all the possible linear combinations of our vectors"
   ]
  },
  {
   "cell_type": "code",
   "execution_count": 272,
   "id": "3bda2f97-ef5e-4c9c-8dd6-04f1178d7d4f",
   "metadata": {},
   "outputs": [
    {
     "data": {
      "image/png": "[encoded data removed]",
      "text/plain": [
       "<Figure size 640x480 with 1 Axes>"
      ]
     },
     "metadata": {},
     "output_type": "display_data"
    }
   ],
   "source": [
    "fig,ax = plt.subplots()\n",
    "ax.quiver(0, 0, 3, 3, angles='xy', scale_units='xy', scale=1, color='r')\n",
    "ax.quiver(0, 0, -3, -3, angles='xy', scale_units='xy', scale=1, color='r')\n",
    "ax.set_xlim([-2, 2])\n",
    "ax.set_ylim([-2, 2])\n",
    "ax.scatter(0,0,color=\"black\")\n",
    "plt.grid()"
   ]
  },
  {
   "cell_type": "markdown",
   "id": "9c1cd3e9-b238-400a-bb63-aa412fbe172d",
   "metadata": {},
   "source": [
    "This line are all the points that we can reach with this vectors. So any points outside this have zero solution in Ax=b, but also now lets see the case when the point lay in the span"
   ]
  },
  {
   "cell_type": "code",
   "execution_count": null,
   "id": "73d4680a-f811-4ad1-bca1-17c920f4175e",
   "metadata": {},
   "outputs": [],
   "source": []
  },
  {
   "cell_type": "code",
   "execution_count": null,
   "id": "28ae6a84-cb56-4b2e-9a83-e10786755fa7",
   "metadata": {},
   "outputs": [],
   "source": []
  },
  {
   "cell_type": "code",
   "execution_count": null,
   "id": "acbcf24c-6da8-4819-9db3-69186805512e",
   "metadata": {},
   "outputs": [],
   "source": []
  },
  {
   "cell_type": "code",
   "execution_count": null,
   "id": "9234ce4e-9493-43ed-988d-0613adb8b9e5",
   "metadata": {},
   "outputs": [],
   "source": []
  },
  {
   "cell_type": "code",
   "execution_count": null,
   "id": "069774e9-8423-44c9-a669-297479d96022",
   "metadata": {},
   "outputs": [],
   "source": []
  },
  {
   "cell_type": "code",
   "execution_count": null,
   "id": "023748ae-730e-428c-8367-7a2b0cd617ad",
   "metadata": {},
   "outputs": [],
   "source": []
  },
  {
   "cell_type": "code",
   "execution_count": null,
   "id": "3e1e609e-642a-45e9-8302-eb628cc4aa1e",
   "metadata": {},
   "outputs": [],
   "source": []
  },
  {
   "cell_type": "code",
   "execution_count": null,
   "id": "b94c602d-d5d9-4962-8b55-41395b219955",
   "metadata": {},
   "outputs": [],
   "source": []
  },
  {
   "cell_type": "code",
   "execution_count": null,
   "id": "8ef69e00-d94a-4a27-aad7-8dc676260aea",
   "metadata": {},
   "outputs": [],
   "source": []
  }
 ],
 "metadata": {
  "kernelspec": {
   "display_name": "Python 3 (ipykernel)",
   "language": "python",
   "name": "python3"
  },
  "language_info": {
   "codemirror_mode": {
    "name": "ipython",
    "version": 3
   },
   "file_extension": ".py",
   "mimetype": "text/x-python",
   "name": "python",
   "nbconvert_exporter": "python",
   "pygments_lexer": "ipython3",
   "version": "3.11.8"
  }
 },
 "nbformat": 4,
 "nbformat_minor": 5
}
